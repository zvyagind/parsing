{
 "cells": [
  {
   "cell_type": "markdown",
   "source": [
    "1) Написать программу, которая собирает входящие письма из своего или тестового почтового ящика и сложить данные о письмах в базу данных (от кого, дата отправки, тема письма, текст письма полный)\n",
    "Логин тестового ящика: study.ai_172@mail.ru\n",
    "Пароль тестового ящика: NextPassword172???"
   ],
   "metadata": {
    "collapsed": false
   }
  },
  {
   "cell_type": "code",
   "execution_count": 124,
   "metadata": {
    "collapsed": true
   },
   "outputs": [],
   "source": [
    "import pandas as pd\n",
    "from selenium import webdriver\n",
    "from selenium.webdriver.chrome.options import Options\n",
    "import time\n",
    "from selenium.webdriver.common.action_chains import ActionChains\n",
    "from selenium.webdriver.support.ui import WebDriverWait\n",
    "from selenium.webdriver.support import expected_conditions as EC\n",
    "from selenium.webdriver.common.by import By\n",
    "import selenium.common.exceptions as s_exceptions\n",
    "from selenium.webdriver.common.keys import Keys\n"
   ]
  },
  {
   "cell_type": "code",
   "execution_count": 125,
   "outputs": [],
   "source": [
    "chrome_options = Options()\n",
    "chrome_options.add_argument(\"--window-size=900,1000\")\n",
    "\n",
    "driver = webdriver.Chrome(executable_path=\"./chromedriver.exe\", options=chrome_options)\n",
    "driver.get('https://mail.ru/')\n",
    "driver.implicitly_wait(10)\n",
    "\n",
    "elem = driver.find_element_by_class_name(\"email-input\")\n",
    "elem.send_keys('study.ai_172@mail.ru')\n",
    "\n",
    "elem = driver.find_element_by_class_name(\"button\")\n",
    "elem.click()\n",
    "\n",
    "elem = driver.find_element_by_class_name(\"password-input\")\n",
    "elem.send_keys('NextPassword172???')\n",
    "\n",
    "elem = driver.find_element_by_class_name(\"second-button\")\n",
    "elem.click()\n"
   ],
   "metadata": {
    "collapsed": false,
    "pycharm": {
     "name": "#%%\n"
    }
   }
  },
  {
   "cell_type": "code",
   "execution_count": 126,
   "outputs": [],
   "source": [
    "# сбор ссылок на письма\n",
    "links_set=set()\n",
    "last_item = None\n",
    "while True:\n",
    "\tlink = driver.find_elements_by_class_name('llc')\n",
    "\tnew_links = [i.get_attribute('href').split('?')[0] for i in link]\n",
    "\tactions = ActionChains(driver)\n",
    "\tdriver.execute_script(\"arguments[0].scrollIntoView();\", link[-1])\n",
    "\tif last_item == link[-1]:\n",
    "\t\tbreak\n",
    "\tlinks_set.update(new_links)\n",
    "\tlast_item = link[-1]\n",
    "\ttime.sleep(1)"
   ],
   "metadata": {
    "collapsed": false,
    "pycharm": {
     "name": "#%%\n"
    }
   }
  },
  {
   "cell_type": "code",
   "execution_count": 127,
   "outputs": [],
   "source": [
    "# сбор данных из писем\n",
    "links_list = list(links_set)\n",
    "messages = []\n",
    "\n",
    "for i in links_list:\n",
    "\n",
    "\tinfo = {}\n",
    "\tdriver.get(i)\n",
    "\n",
    "\tinfo['link'] = i\n",
    "\tinfo['sender'] = driver.find_element_by_class_name(\"letter-contact\").text #от кого\n",
    "\tinfo['senders_email'] = driver.find_element_by_class_name(\"letter-contact\").get_attribute('title') #от кого_email\n",
    "\tinfo['date'] = driver.find_element_by_class_name(\"letter__date\").text\t#дата отправки\n",
    "\tinfo['subject'] = driver.find_element_by_class_name(\"thread__subject\").text #тема письма\n",
    "\tinfo['content'] = driver.find_element_by_class_name(\"letter-body\").text #текст письма полный\n",
    "\n",
    "\tmessages.append(info)\n"
   ],
   "metadata": {
    "collapsed": false,
    "pycharm": {
     "name": "#%%\n"
    }
   }
  },
  {
   "cell_type": "code",
   "execution_count": 132,
   "outputs": [
    {
     "data": {
      "text/plain": "             sender                 senders_email               date  \\\n0             Пульс         noreply@pulse.mail.ru  30 августа, 20:17   \n1               WMJ           digest@email.wmj.ru     28 июля, 12:26   \n2           Mail.ru           security@id.mail.ru     15 июля, 19:40   \n3         Instagram   no-reply@mail.instagram.com      14 июля, 9:12   \n4             Пульс         noreply@pulse.mail.ru      4 июля, 20:16   \n5  Webdesigner News  no-reply@webdesignernews.com     30 июля, 22:34   \n6             Пульс         noreply@pulse.mail.ru     27 июля, 20:16   \n7               WMJ           digest@email.wmj.ru     12 июля, 11:47   \n8             Пульс         noreply@pulse.mail.ru     26 июля, 20:17   \n9        GeekBrains       noreply@e.geekbrains.ru   26 апреля, 17:43   \n\n                                             subject  \\\n0                    Топ новостей за 24 часа для вас   \n1                     Как коронавирус влияет на слух   \n2                          Изменён пароль в аккаунте   \n3  study.ai_172, посмотрите новости TONI GARRN и ...   \n4                    Топ новостей за 24 часа для вас   \n5  ✏ Developer Ecosystem State, How To Be An Illu...   \n6                    Топ новостей за 24 часа для вас   \n7                    Умер участник шоу «Голос. Дети»   \n8                    Топ новостей за 24 часа для вас   \n9  Удача: 4 курса в подарок + скидки на более 50 ...   \n\n                                             content  \\\n0          Новости за 24 часа\\n  Привет! Это ваша...   \n1  Привет! Самые актуальные новости и любопытные ...   \n2          Изменён пароль в аккаунте\\n study.ai_1...   \n3    Подпишитесь на обновления TONI GARRN, E! New...   \n4          Новости за 24 часа\\n  Привет! Это ваша...   \n5    Master The Basics of Web Design With This On...   \n6          Новости за 24 часа\\n  Привет! Это ваша...   \n7  Привет! Самые актуальные новости и любопытные ...   \n8          Новости за 24 часа\\n  Привет! Это ваша...   \n9        Привет!\\n  Впереди майские праздники — с...   \n\n                                                link  \n0  https://e.mail.ru/inbox/0:16303366600292109557:0/  \n1  https://e.mail.ru/inbox/0:16274572001024318996:0/  \n2  https://e.mail.ru/inbox/0:16263600431724643125:0/  \n3  https://e.mail.ru/inbox/0:16262359501538944543:0/  \n4  https://e.mail.ru/inbox/0:16254117830033865031:0/  \n5  https://e.mail.ru/inbox/0:16276664761743324844:0/  \n6  https://e.mail.ru/inbox/0:16273989911710944086:0/  \n7  https://e.mail.ru/inbox/0:16260724701189065882:0/  \n8  https://e.mail.ru/inbox/0:16273126660164666416:0/  \n9  https://e.mail.ru/inbox/0:16194409941621379768:0/  ",
      "text/html": "<div>\n<style scoped>\n    .dataframe tbody tr th:only-of-type {\n        vertical-align: middle;\n    }\n\n    .dataframe tbody tr th {\n        vertical-align: top;\n    }\n\n    .dataframe thead th {\n        text-align: right;\n    }\n</style>\n<table border=\"1\" class=\"dataframe\">\n  <thead>\n    <tr style=\"text-align: right;\">\n      <th></th>\n      <th>sender</th>\n      <th>senders_email</th>\n      <th>date</th>\n      <th>subject</th>\n      <th>content</th>\n      <th>link</th>\n    </tr>\n  </thead>\n  <tbody>\n    <tr>\n      <th>0</th>\n      <td>Пульс</td>\n      <td>noreply@pulse.mail.ru</td>\n      <td>30 августа, 20:17</td>\n      <td>Топ новостей за 24 часа для вас</td>\n      <td>Новости за 24 часа\\n  Привет! Это ваша...</td>\n      <td>https://e.mail.ru/inbox/0:16303366600292109557:0/</td>\n    </tr>\n    <tr>\n      <th>1</th>\n      <td>WMJ</td>\n      <td>digest@email.wmj.ru</td>\n      <td>28 июля, 12:26</td>\n      <td>Как коронавирус влияет на слух</td>\n      <td>Привет! Самые актуальные новости и любопытные ...</td>\n      <td>https://e.mail.ru/inbox/0:16274572001024318996:0/</td>\n    </tr>\n    <tr>\n      <th>2</th>\n      <td>Mail.ru</td>\n      <td>security@id.mail.ru</td>\n      <td>15 июля, 19:40</td>\n      <td>Изменён пароль в аккаунте</td>\n      <td>Изменён пароль в аккаунте\\n study.ai_1...</td>\n      <td>https://e.mail.ru/inbox/0:16263600431724643125:0/</td>\n    </tr>\n    <tr>\n      <th>3</th>\n      <td>Instagram</td>\n      <td>no-reply@mail.instagram.com</td>\n      <td>14 июля, 9:12</td>\n      <td>study.ai_172, посмотрите новости TONI GARRN и ...</td>\n      <td>Подпишитесь на обновления TONI GARRN, E! New...</td>\n      <td>https://e.mail.ru/inbox/0:16262359501538944543:0/</td>\n    </tr>\n    <tr>\n      <th>4</th>\n      <td>Пульс</td>\n      <td>noreply@pulse.mail.ru</td>\n      <td>4 июля, 20:16</td>\n      <td>Топ новостей за 24 часа для вас</td>\n      <td>Новости за 24 часа\\n  Привет! Это ваша...</td>\n      <td>https://e.mail.ru/inbox/0:16254117830033865031:0/</td>\n    </tr>\n    <tr>\n      <th>5</th>\n      <td>Webdesigner News</td>\n      <td>no-reply@webdesignernews.com</td>\n      <td>30 июля, 22:34</td>\n      <td>✏ Developer Ecosystem State, How To Be An Illu...</td>\n      <td>Master The Basics of Web Design With This On...</td>\n      <td>https://e.mail.ru/inbox/0:16276664761743324844:0/</td>\n    </tr>\n    <tr>\n      <th>6</th>\n      <td>Пульс</td>\n      <td>noreply@pulse.mail.ru</td>\n      <td>27 июля, 20:16</td>\n      <td>Топ новостей за 24 часа для вас</td>\n      <td>Новости за 24 часа\\n  Привет! Это ваша...</td>\n      <td>https://e.mail.ru/inbox/0:16273989911710944086:0/</td>\n    </tr>\n    <tr>\n      <th>7</th>\n      <td>WMJ</td>\n      <td>digest@email.wmj.ru</td>\n      <td>12 июля, 11:47</td>\n      <td>Умер участник шоу «Голос. Дети»</td>\n      <td>Привет! Самые актуальные новости и любопытные ...</td>\n      <td>https://e.mail.ru/inbox/0:16260724701189065882:0/</td>\n    </tr>\n    <tr>\n      <th>8</th>\n      <td>Пульс</td>\n      <td>noreply@pulse.mail.ru</td>\n      <td>26 июля, 20:17</td>\n      <td>Топ новостей за 24 часа для вас</td>\n      <td>Новости за 24 часа\\n  Привет! Это ваша...</td>\n      <td>https://e.mail.ru/inbox/0:16273126660164666416:0/</td>\n    </tr>\n    <tr>\n      <th>9</th>\n      <td>GeekBrains</td>\n      <td>noreply@e.geekbrains.ru</td>\n      <td>26 апреля, 17:43</td>\n      <td>Удача: 4 курса в подарок + скидки на более 50 ...</td>\n      <td>Привет!\\n  Впереди майские праздники — с...</td>\n      <td>https://e.mail.ru/inbox/0:16194409941621379768:0/</td>\n    </tr>\n  </tbody>\n</table>\n</div>"
     },
     "execution_count": 132,
     "metadata": {},
     "output_type": "execute_result"
    }
   ],
   "source": [
    "df = pd.DataFrame(messages)\n",
    "df.head(10)"
   ],
   "metadata": {
    "collapsed": false,
    "pycharm": {
     "name": "#%%\n"
    }
   }
  },
  {
   "cell_type": "code",
   "execution_count": 134,
   "outputs": [],
   "source": [
    "\n",
    "from pymongo import MongoClient\n",
    "client = MongoClient('mongodb://localhost:27017/')\n",
    "letters = client.letters\n",
    "db = letters.mailru_messages\n",
    "\n",
    "for i in range(0, len(df)):\n",
    "\t# db.insert_one(data.loc[i].to_dict())\n",
    "\tdb.update_one({'link': df.loc[i].to_dict()['link']}, {\n",
    "\t\t'$set': df.loc[i].to_dict()}, upsert=True)"
   ],
   "metadata": {
    "collapsed": false,
    "pycharm": {
     "name": "#%%\n"
    }
   }
  }
 ],
 "metadata": {
  "kernelspec": {
   "display_name": "Python 3",
   "language": "python",
   "name": "python3"
  },
  "language_info": {
   "codemirror_mode": {
    "name": "ipython",
    "version": 2
   },
   "file_extension": ".py",
   "mimetype": "text/x-python",
   "name": "python",
   "nbconvert_exporter": "python",
   "pygments_lexer": "ipython2",
   "version": "2.7.6"
  }
 },
 "nbformat": 4,
 "nbformat_minor": 0
}