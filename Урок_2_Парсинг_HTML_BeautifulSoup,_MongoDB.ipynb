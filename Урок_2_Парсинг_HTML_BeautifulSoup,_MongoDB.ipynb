{
  "nbformat": 4,
  "nbformat_minor": 0,
  "metadata": {
    "colab": {
      "name": "Урок 2. Парсинг HTML. BeautifulSoup, MongoDB.ipynb",
      "provenance": [],
      "collapsed_sections": [],
      "include_colab_link": true
    },
    "kernelspec": {
      "name": "python3",
      "display_name": "Python 3"
    },
    "language_info": {
      "name": "python"
    }
  },
  "cells": [
    {
      "cell_type": "markdown",
      "metadata": {
        "id": "view-in-github",
        "colab_type": "text"
      },
      "source": [
        "<a href=\"https://colab.research.google.com/github/zvyagind/parsing/blob/2_Lesson/%D0%A3%D1%80%D0%BE%D0%BA_2_%D0%9F%D0%B0%D1%80%D1%81%D0%B8%D0%BD%D0%B3_HTML_BeautifulSoup%2C_MongoDB.ipynb\" target=\"_parent\"><img src=\"https://colab.research.google.com/assets/colab-badge.svg\" alt=\"Open In Colab\"/></a>"
      ]
    },
    {
      "cell_type": "markdown",
      "metadata": {
        "id": "KeQwK7V06Vl_"
      },
      "source": [
        "# Вариант 1\n",
        "Необходимо собрать информацию о вакансиях на вводимую должность (используем input или через аргументы получаем должность) с сайтов HH(обязательно) и/или Superjob(по желанию). Приложение должно анализировать несколько страниц сайта (также вводим через input или аргументы). Получившийся список должен содержать в себе минимум:\n",
        "    Наименование вакансии.\n",
        "    Предлагаемую зарплату (разносим в три поля: минимальная и максимальная и валюта. цифры преобразуем к цифрам).\n",
        "    Ссылку на саму вакансию.\n",
        "    Сайт, откуда собрана вакансия.\n",
        "По желанию можно добавить ещё параметры вакансии (например, работодателя и расположение). Структура должна быть одинаковая для вакансий с обоих сайтов. Общий результат можно вывести с помощью dataFrame через pandas. Сохраните в json либо csv."
      ]
    },
    {
      "cell_type": "markdown",
      "metadata": {
        "id": "VYdNrydYh-Fs"
      },
      "source": [
        "## imports"
      ]
    },
    {
      "cell_type": "code",
      "metadata": {
        "id": "r6AyBkdV3jWu"
      },
      "source": [
        "import requests\n",
        "import pandas as pd\n",
        "pd.options.mode.chained_assignment = None  # default='warn'\n",
        "from bs4 import BeautifulSoup as bs\n",
        "from pprint import pprint\n",
        "\n",
        "from random import randint\n",
        "from time import sleep\n"
      ],
      "execution_count": 2,
      "outputs": []
    },
    {
      "cell_type": "markdown",
      "metadata": {
        "id": "KQSPvh2IX8z8"
      },
      "source": [
        "## set starting params"
      ]
    },
    {
      "cell_type": "code",
      "metadata": {
        "id": "Qu7iWpcY3kOP"
      },
      "source": [
        "url = 'https://hh.ru/search/vacancy?searchVacancy&text=' #какая-то беда с кодировкой при передаче кириллицы в requests без полной строки url, поэтому не со стартовой страницы\n",
        "\n",
        "headers = {'User-Agent':'Mozilla/5.0 (Linux; Android 10; VOG-L29) '\n",
        "                        'AppleWebKit/537.36 (KHTML, like Gecko) Chrome/92.0.4515.159 Mobile Safari/537.36 OPR/63.3.3216.58675',\n",
        "           'Accept':\t'text/html',\n",
        "           'Referer':\t'http://www.google.com/'}\n",
        "\n",
        "#####   INPUT   #####\n",
        "\n",
        "query = 'аналитик+данных' #'+'.join(input('Введите интересующую вакансию: ').split(' ')).lower()\n",
        "lim = 5 #int(input('Введите кол-во страниц для поиска (по 20 вакансий на страницу): '))\n",
        "\n",
        "#####   INPUT   #####\n",
        "\n",
        "# определение параметров для поиска bs в зависимости от полей, которые хотим получить (для разных сайтов делаем ещё один ключ)\n",
        "params = {'title': ('a', {'class': 'bloko-link', 'data-qa':'vacancy-serp__vacancy-title'}),\n",
        "          'link': ('a', {'class': 'bloko-link', 'data-qa':'vacancy-serp__vacancy-title'}),\n",
        "          'employer': ('a', {'class': 'bloko-link bloko-link_secondary', 'data-qa':'vacancy-serp__vacancy-employer'}),\n",
        "          'city': ('span', {'class': \"vacancy-serp-item__meta-info\", 'data-qa':\"vacancy-serp__vacancy-address\"}),\n",
        "          'wage':('span', {'data-qa':\"vacancy-serp__vacancy-compensation\"})}\n"
      ],
      "execution_count": 3,
      "outputs": []
    },
    {
      "cell_type": "markdown",
      "metadata": {
        "id": "L-E76WULThtN"
      },
      "source": [
        "## def get_next_page"
      ]
    },
    {
      "cell_type": "code",
      "metadata": {
        "id": "Dee2226XPOTf"
      },
      "source": [
        "def get_next_page(soup):\n",
        "    try:\n",
        "        next_url = 'https://hh.ru'+soup.find('a', {'class':'bloko-button', 'data-qa': 'pager-next'})['href']\n",
        "    except:\n",
        "        next_url = None\n",
        "    # print(next_url)\n",
        "    return next_url\n"
      ],
      "execution_count": 4,
      "outputs": []
    },
    {
      "cell_type": "markdown",
      "metadata": {
        "id": "4S2sZsSM_8KE"
      },
      "source": [
        "## def get_vac_data"
      ]
    },
    {
      "cell_type": "code",
      "metadata": {
        "id": "Tjse51AR4RN6"
      },
      "source": [
        "next_url = url+query # starting point\n",
        "\n",
        "def get_vac_data(next_url, headers, lim):\n",
        "    data = pd.DataFrame(columns = ['title', 'link', 'employer', 'city', 'wage']) # , 'wagefrom', 'wageto', 'currency'\n",
        "    p = 0\n",
        "    \n",
        "    while True:\n",
        "        if next_url == None or p == lim+1:\n",
        "            print('Остановка - нет следующего url или достигнут лимит страниц')\n",
        "            return data\n",
        "\n",
        "        sleep(randint(1,5))\n",
        "        response = requests.get(next_url, headers=headers)\n",
        "        soup = bs(response.text, 'html.parser')\n",
        "        vacancies = soup.find_all('div', {'class':'vacancy-serp-item'})\n",
        "        \n",
        "        for item in vacancies:\n",
        "            data_dict = {}\n",
        "            for i in params.keys():\n",
        "                try:\n",
        "                    data_dict[i] = item.find(params[i][0], params[i][1]).getText().replace('\\u202f','').replace('\\xa0',' ')\n",
        "                    if i == 'link':\n",
        "                        data_dict[i] = item.find(params[i][0], params[i][1]).get('href').split('?')[0]\n",
        "                    if i == 'city':\n",
        "                        data_dict[i] = item.find(params[i][0], params[i][1]).getText().replace('\\u202f','').replace('\\xa0',' ').split(',')[0]\n",
        "                except:\n",
        "                    data_dict[i] = None\n",
        "            \n",
        "            data = data.append(data_dict, ignore_index = True)\n",
        "            # print(data.to_markdown())\n",
        "        \n",
        "        next_url = get_next_page(soup)\n",
        "        p +=1 # счетчик страниц\n",
        "    \n",
        "    return data\n"
      ],
      "execution_count": 5,
      "outputs": []
    },
    {
      "cell_type": "markdown",
      "metadata": {
        "id": "VA6ATr-KIbrB"
      },
      "source": [
        "## execution"
      ]
    },
    {
      "cell_type": "code",
      "metadata": {
        "colab": {
          "base_uri": "https://localhost:8080/"
        },
        "id": "UOERo9F0IY4U",
        "outputId": "e043755a-8d2e-418e-e401-141ef20f0780"
      },
      "source": [
        "data = get_vac_data(next_url, headers, lim)\n",
        "# print(data.head(100).to_markdown())"
      ],
      "execution_count": 6,
      "outputs": [
        {
          "output_type": "stream",
          "text": [
            "Остановка - нет следующего url или достигнут лимит страниц\n"
          ],
          "name": "stdout"
        }
      ]
    },
    {
      "cell_type": "markdown",
      "metadata": {
        "id": "VTsWAnaZWmqq"
      },
      "source": [
        "## transform"
      ]
    },
    {
      "cell_type": "code",
      "metadata": {
        "colab": {
          "base_uri": "https://localhost:8080/"
        },
        "id": "An0pkFJCIkkI",
        "outputId": "eb9711f7-e0bb-4cff-f8cf-40271147333c"
      },
      "source": [
        "data['wage_from'] = 0\n",
        "data['wage_to'] = 0\n",
        "data['wage_currency'] = 'руб.'\n",
        "\n",
        "for i in range(len(data['wage'])):\n",
        "    if data['wage'][i] == None:\n",
        "        data['wage_from'][i] = None\n",
        "        data['wage_to'][i] = None\n",
        "        data['wage_currency'][i] = None\n",
        "        continue\n",
        "    if len([int(s) for s in str.split(data['wage'][i]) if s.isdigit()]) == 1:\n",
        "        if data['wage'][i].split(' ')[0] == 'от':\n",
        "            data['wage_from'][i] = int(data['wage'][i].split(' ')[1])\n",
        "        else:\n",
        "            data['wage_to'][i] = int(data['wage'][i].split(' ')[1])\n",
        "    else:\n",
        "        data['wage_from'][i] = int(data['wage'][i].split(' ')[0])\n",
        "        data['wage_to'][i] = int(data['wage'][i].split(' ')[2])\n",
        "    data['wage_currency'][i] = data['wage'][i].split('0 ')[-1]\n",
        "\n",
        "print(data.head(40).to_markdown())"
      ],
      "execution_count": 7,
      "outputs": [
        {
          "output_type": "stream",
          "text": [
            "|    | title                                                                               | link                           | employer                                           | city            | wage                 |   wage_from |   wage_to | wage_currency   |\n",
            "|---:|:------------------------------------------------------------------------------------|:-------------------------------|:---------------------------------------------------|:----------------|:---------------------|------------:|----------:|:----------------|\n",
            "|  0 | Аналитик                                                                            | https://hh.ru/vacancy/47218683 | Фабрика Кофе                                       | Москва          | 50000 – 70000 руб.   |       50000 |     70000 | руб.            |\n",
            "|  1 | Начинающий специалист со знанием Excel (аналитик)                                   | https://hh.ru/vacancy/46914727 | \"Рельеф-Центр\" Департамент Административный блок   | Рязань          | от 30000 руб.        |       30000 |         0 | руб.            |\n",
            "|  2 | Аналитик данных                                                                     | https://hh.ru/vacancy/46241509 | HeadHunter::Департамент коммерческих операций      | Москва          |                      |         nan |       nan |                 |\n",
            "|  3 | Бизнес-аналитик (логистика)                                                         | https://hh.ru/vacancy/45644775 | ООО ОМА                                            | Минск           |                      |         nan |       nan |                 |\n",
            "|  4 | Аналитик данных                                                                     | https://hh.ru/vacancy/47115183 | ООО ЛК Сименс Финанс                               | Владивосток     |                      |         nan |       nan |                 |\n",
            "|  5 | Продуктовый аналитик / Аналитик данных                                              | https://hh.ru/vacancy/47164762 | ФБ Медиа Солюшнс                                   | Москва          | 70000 – 100000 руб.  |       70000 |    100000 | руб.            |\n",
            "|  6 | Младший аналитик данных                                                             | https://hh.ru/vacancy/46535696 | AppQuantum                                         | Москва          | от 60000 руб.        |       60000 |         0 | руб.            |\n",
            "|  7 | Аналитик                                                                            | https://hh.ru/vacancy/46988642 | ООО СофтПро                                        | Москва          | от 120000 руб.       |      120000 |         0 | руб.            |\n",
            "|  8 | Аналитик данных / BI-стажер                                                         | https://hh.ru/vacancy/47062195 | ТехАудит                                           | Москва          | 60000 – 90000 руб.   |       60000 |     90000 | руб.            |\n",
            "|  9 | Аналитик данных в сфере закупок                                                     | https://hh.ru/vacancy/47127283 | ООО ЗЕНМОД                                         | Екатеринбург    | от 120000 руб.       |      120000 |         0 | руб.            |\n",
            "| 10 | Аналитик                                                                            | https://hh.ru/vacancy/46892533 | Точка                                              | Санкт-Петербург | 50000 – 180000 руб.  |       50000 |    180000 | руб.            |\n",
            "| 11 | Аналитик данных/Data Sientist                                                       | https://hh.ru/vacancy/47125199 | ООО Л-ПАК                                          | Москва          | от 120000 руб.       |      120000 |         0 | руб.            |\n",
            "| 12 | Аналитик данных                                                                     | https://hh.ru/vacancy/46823161 | MNOGOGAMES                                         | Рязань          | от 150000 руб.       |      150000 |         0 | руб.            |\n",
            "| 13 | Удаленный стажер аналитик (анализ данных, data science, data engineer, ml engineer) | https://hh.ru/vacancy/47260461 | ООО МАЙНДСЭТ                                       | Москва          |                      |         nan |       nan |                 |\n",
            "| 14 | Аналитик данных                                                                     | https://hh.ru/vacancy/44514696 | ДОМСПб                                             | Санкт-Петербург | до 65000 руб.        |           0 |     65000 | руб.            |\n",
            "| 15 | Аналитик                                                                            | https://hh.ru/vacancy/47246398 | look.online                                        | Москва          | от 90000 руб.        |       90000 |         0 | руб.            |\n",
            "| 16 | Продуктовый аналитик / Аналитик данных                                              | https://hh.ru/vacancy/47248997 | ВкусВилл. Магазины                                 | Москва          | от 100000 руб.       |      100000 |         0 | руб.            |\n",
            "| 17 | Аналитик /Data Analyst                                                              | https://hh.ru/vacancy/41124052 | Wargaming St. Petersburg (Lesta Studio)            | Санкт-Петербург |                      |         nan |       nan |                 |\n",
            "| 18 | Аналитик данных                                                                     | https://hh.ru/vacancy/47066683 | Роппельт Георгий Артурович                         | Москва          | 100000 – 100000 руб. |      100000 |    100000 | руб.            |\n",
            "| 19 | Аналитик по работе с данными / BI                                                   | https://hh.ru/vacancy/47034272 | ООО БиАй Продакшн                                  | Москва          | 100000 – 140000 руб. |      100000 |    140000 | руб.            |\n",
            "| 20 | Специалист-аналитик                                                                 | https://hh.ru/vacancy/47181009 | ООО ТЕХНОТРЕЙД                                     | Ростов-на-Дону  | 35000 – 60000 руб.   |       35000 |     60000 | руб.            |\n",
            "| 21 | Бизнес-аналитик данных                                                              | https://hh.ru/vacancy/45917899 | Армтек                                             | Москва          |                      |         nan |       nan |                 |\n",
            "| 22 | Аналитик                                                                            | https://hh.ru/vacancy/47278262 | Кадровое агентство №1                              | Москва          | 100000 – 110000 руб. |      100000 |    110000 | руб.            |\n",
            "| 23 | Аналитик данных                                                                     | https://hh.ru/vacancy/41684526 | ООО ВИС                                            | Санкт-Петербург |                      |         nan |       nan |                 |\n",
            "| 24 | Аналитик                                                                            | https://hh.ru/vacancy/47148780 | ИП Дударев Юрий Степанович                         | Москва          | до 100000 руб.       |           0 |    100000 | руб.            |\n",
            "| 25 | Специалист (Аналитик данных)                                                        | https://hh.ru/vacancy/47078392 | ООО Индустрия Инноваций                            | Минск           |                      |         nan |       nan |                 |\n",
            "| 26 | Бизнес аналитик                                                                     | https://hh.ru/vacancy/46066757 | АО Citibank                                        | Санкт-Петербург | 150000 – 200000 руб. |      150000 |    200000 | руб.            |\n",
            "| 27 | Аналитик данных (Compliance)                                                        | https://hh.ru/vacancy/45089920 | ООО Paysend                                        | Москва          |                      |         nan |       nan |                 |\n",
            "| 28 | Аналитик данных                                                                     | https://hh.ru/vacancy/44994415 | Сбер для экспертов                                 | Москва          |                      |         nan |       nan |                 |\n",
            "| 29 | Аналитик данных (Фарма)                                                             | https://hh.ru/vacancy/46794820 | ООО ЦРПТ (Центр развития перспективных технологий) | Москва          |                      |         nan |       nan |                 |\n",
            "| 30 | Спам-аналитик (удаленно)                                                            | https://hh.ru/vacancy/47250570 | KamaGames Studio                                   | Москва          | 20000 – 25000 руб.   |       20000 |     25000 | руб.            |\n",
            "| 31 | Бизнес-аналитик в Power BI                                                          | https://hh.ru/vacancy/47055568 | ИП Ельмикеев Евгений Иванович                      | Москва          | от 50000 руб.        |       50000 |         0 | руб.            |\n",
            "| 32 | Аналитик                                                                            | https://hh.ru/vacancy/47264433 | ООО Торговый Дом Время                             | Москва          | от 80000 руб.        |       80000 |         0 | руб.            |\n",
            "| 33 | Аналитик данных / Бизнес-аналитик                                                   | https://hh.ru/vacancy/46555619 | Albatross Internet Group                           | Москва          |                      |         nan |       nan |                 |\n",
            "| 34 | Аналитик данных                                                                     | https://hh.ru/vacancy/47250203 | Университет Иннополис                              | Иннополис       |                      |         nan |       nan |                 |\n",
            "| 35 | Аналитик                                                                            | https://hh.ru/vacancy/47208670 | ТОО Микрокредитная организация I-Credit            | Алматы          |                      |         nan |       nan |                 |\n",
            "| 36 | Руководитель направления партнерских данных (аналитик данных)                       | https://hh.ru/vacancy/46529737 | АЛЬФА-БАНК                                         | Минск           |                      |         nan |       nan |                 |\n",
            "| 37 | Аналитик данных для загрузки из внутренних источников                               | https://hh.ru/vacancy/47228952 | Иннотех, Группа компаний                           | Москва          |                      |         nan |       nan |                 |\n",
            "| 38 | Аналитик баз данных                                                                 | https://hh.ru/vacancy/46931218 | VinylRussia                                        | Москва          | от 70000 руб.        |       70000 |         0 | руб.            |\n",
            "| 39 | Аналитик                                                                            | https://hh.ru/vacancy/46147513 | RAKETA                                             | Екатеринбург    |                      |         nan |       nan |                 |\n"
          ],
          "name": "stdout"
        }
      ]
    },
    {
      "cell_type": "markdown",
      "metadata": {
        "id": "Rd3GTqfKvZ4T"
      },
      "source": [
        "## save"
      ]
    },
    {
      "cell_type": "code",
      "metadata": {
        "id": "uUDsMDpNvdl1"
      },
      "source": [
        "data.to_csv(u'hh_request.csv', sep = ';', encoding='utf-16')"
      ],
      "execution_count": 8,
      "outputs": []
    },
    {
      "cell_type": "markdown",
      "metadata": {
        "id": "JpN0l0uJb5Kz"
      },
      "source": [
        "# Вариант 2\n",
        "Необходимо собрать информацию по продуктам питания с сайта: Список протестированных продуктов на сайте Росконтроль.рф Приложение должно анализировать несколько страниц сайта (вводим через input или аргументы).\n",
        "Получившийся список должен содержать:\n",
        "\n",
        "Наименование продукта.\n",
        "Все параметры (Безопасность, Натуральность, Пищевая ценность, Качество) Не забываем преобразовать к цифрам.\n",
        "Общую оценку\n",
        "Сайт, откуда получена информация.\n",
        "Общий результат можно вывести с помощью dataFrame через Pandas. Сохраните в json либо csv."
      ]
    },
    {
      "cell_type": "markdown",
      "metadata": {
        "id": "mhqffa5LLwM9"
      },
      "source": [
        "## set starting params"
      ]
    },
    {
      "cell_type": "code",
      "metadata": {
        "id": "hDeuygXTLwM-"
      },
      "source": [
        "url = 'https://roscontrol.com'\n",
        "products_url = 'https://roscontrol.com/category/produkti/'\n",
        "\n",
        "headers = {'User-Agent':'Mozilla/5.0 (Linux; Android 10; VOG-L29) '\n",
        "                        'AppleWebKit/537.36 (KHTML, like Gecko) Chrome/92.0.4515.159 Mobile Safari/537.36 OPR/63.3.3216.58675',\n",
        "           'Accept':\t'text/html',\n",
        "           'Referer':\t'http://www.google.com/'}\n"
      ],
      "execution_count": 59,
      "outputs": []
    },
    {
      "cell_type": "markdown",
      "metadata": {
        "id": "zQOgbyJdzH1X"
      },
      "source": [
        "## get categories list with urls"
      ]
    },
    {
      "cell_type": "code",
      "metadata": {
        "id": "2q9ChqXdM7Nr"
      },
      "source": [
        "products = requests.get(products_url, headers=headers)\n",
        "soup = bs(products.text, 'html.parser')\n",
        "prod = soup.find_all('div', {'class':'grid-padding grid-column-3 grid-column-large-6 grid-flex-mobile grid-column-middle-6 grid-column-small-12 grid-left'})\n",
        "prod_class_list = []\n",
        "for i in prod:\n",
        "    prod_class = {}\n",
        "    prod_class['name'] = i.find('div',{'class': 'catalog__category-name'}).text\n",
        "    prod_class['link'] = i.find('a',{'class': 'catalog__category-item util-hover-shadow'})['href']\n",
        "    prod_class_list.append(prod_class)\n"
      ],
      "execution_count": 60,
      "outputs": []
    },
    {
      "cell_type": "code",
      "metadata": {
        "id": "UG-edyN7cJdh"
      },
      "source": [
        "prod_type_list = []\n",
        "for j in prod_class_list:\n",
        "    sleep(randint(1, 5))\n",
        "    products = requests.get(url+j['link'], headers=headers)\n",
        "    soup = bs(products.text, 'html.parser')\n",
        "    prod = soup.find_all('div', {'class':'grid-padding grid-column-3 grid-column-large-6 grid-flex-mobile grid-column-middle-6 grid-column-small-12 grid-left'})\n",
        "    for i in prod:\n",
        "        prod_type = {}\n",
        "        prod_type['class']=j['name']\n",
        "        prod_type['type'] = i.find('div',{'class': 'catalog__category-name'}).text\n",
        "        prod_type['link'] = i.find('a',{'class': 'catalog__category-item util-hover-shadow'})['href']\n",
        "        prod_type_list.append(prod_type)\n"
      ],
      "execution_count": 61,
      "outputs": []
    },
    {
      "cell_type": "markdown",
      "metadata": {
        "id": "lWaENBEg8sBt"
      },
      "source": [
        "## get data"
      ]
    },
    {
      "cell_type": "code",
      "metadata": {
        "id": "zWuuu0KZqDD0"
      },
      "source": [
        "lim = 2 # Макс глубина сканирования\n",
        "\n",
        "prod_list = []\n",
        "for i in prod_type_list:\n",
        "\n",
        "    for j in range (1, lim+1):\n",
        "        \n",
        "        # if i['class']!=' Молочные продукты ':\n",
        "        #     continue\n",
        "\n",
        "        sleep(randint(1, 3))\n",
        "        products = requests.get(url+i['link']+f'?page={j}', headers=headers)\n",
        "\n",
        "        #####print(url+i['link']+f'?page={j}')\n",
        "\n",
        "        soup = bs(products.text, 'html.parser')\n",
        "        if j > 1 and soup.find('span', {'class':'hide-with-1024'}) == None:\n",
        "\n",
        "            #####print('Пропущена - ', url+i['link']+f'?page={j}')\n",
        "            continue\n",
        "        prod = soup.find_all('div', {'class':'product__item-leftblock group'})\n",
        "        \n",
        "        for k in prod:\n",
        "            prod_type = {}\n",
        "            prod_type['class']=i['class']\n",
        "            prod_type['type'] = i['type']\n",
        "            prod_type['link'] = url+i['link']+f'?page={j}'\n",
        "\n",
        "            prod_type['name'] = k.find('div', {'class': 'product__item-link'}).text\n",
        "\n",
        "            quality = k.find_all('span', {'class': 'rating_row'})\n",
        "            try:\n",
        "                prod_type['safety'] = int(quality[0].find('i')['data-width'])\n",
        "            except:\n",
        "                prod_type['safety'] = None\n",
        "            try:\n",
        "                prod_type['origin'] = int(quality[1].find('i')['data-width'])\n",
        "            except:\n",
        "                prod_type['origin'] = None\n",
        "            try:\n",
        "                prod_type['nutritional value'] = int(quality[2].find('i')['data-width'])\n",
        "            except:\n",
        "                prod_type['nutritional value'] = None\n",
        "            try:\n",
        "                prod_type['quality'] = int(quality[3].find('i')['data-width'])\n",
        "            except:\n",
        "                prod_type['quality'] = None\n",
        "\n",
        "            try:\n",
        "                prod_type['total score'] = int(k.find('div', {'class': 'rating-value'}).text)\n",
        "            except:\n",
        "                prod_type['total score'] = None\n",
        "\n",
        "            prod_list.append(prod_type)\n",
        "df = pd.DataFrame(prod_list)"
      ],
      "execution_count": 58,
      "outputs": []
    },
    {
      "cell_type": "code",
      "metadata": {
        "colab": {
          "base_uri": "https://localhost:8080/",
          "height": 1000
        },
        "id": "LUdJqeoRxRuR",
        "outputId": "ca2d84d8-566f-4b3b-d5bc-6ed370b9e6eb"
      },
      "source": [
        "df.tail(20)"
      ],
      "execution_count": 62,
      "outputs": [
        {
          "output_type": "execute_result",
          "data": {
            "text/html": [
              "<div>\n",
              "<style scoped>\n",
              "    .dataframe tbody tr th:only-of-type {\n",
              "        vertical-align: middle;\n",
              "    }\n",
              "\n",
              "    .dataframe tbody tr th {\n",
              "        vertical-align: top;\n",
              "    }\n",
              "\n",
              "    .dataframe thead th {\n",
              "        text-align: right;\n",
              "    }\n",
              "</style>\n",
              "<table border=\"1\" class=\"dataframe\">\n",
              "  <thead>\n",
              "    <tr style=\"text-align: right;\">\n",
              "      <th></th>\n",
              "      <th>class</th>\n",
              "      <th>type</th>\n",
              "      <th>link</th>\n",
              "      <th>name</th>\n",
              "      <th>safety</th>\n",
              "      <th>origin</th>\n",
              "      <th>nutritional value</th>\n",
              "      <th>quality</th>\n",
              "      <th>total score</th>\n",
              "    </tr>\n",
              "  </thead>\n",
              "  <tbody>\n",
              "    <tr>\n",
              "      <th>3075</th>\n",
              "      <td>Фрукты, овощи, грибы</td>\n",
              "      <td>Картофель</td>\n",
              "      <td>https://roscontrol.com/category/produkti/ovosh...</td>\n",
              "      <td>Картофель \"Перекрёсток\" мытый</td>\n",
              "      <td>60.0</td>\n",
              "      <td>90.0</td>\n",
              "      <td>NaN</td>\n",
              "      <td>NaN</td>\n",
              "      <td>75.0</td>\n",
              "    </tr>\n",
              "    <tr>\n",
              "      <th>3076</th>\n",
              "      <td>Фрукты, овощи, грибы</td>\n",
              "      <td>Картофель</td>\n",
              "      <td>https://roscontrol.com/category/produkti/ovosh...</td>\n",
              "      <td>Картофель \"Лента\" мытый</td>\n",
              "      <td>51.0</td>\n",
              "      <td>84.0</td>\n",
              "      <td>NaN</td>\n",
              "      <td>NaN</td>\n",
              "      <td>68.0</td>\n",
              "    </tr>\n",
              "    <tr>\n",
              "      <th>3077</th>\n",
              "      <td>Фрукты, овощи, грибы</td>\n",
              "      <td>Картофель</td>\n",
              "      <td>https://roscontrol.com/category/produkti/ovosh...</td>\n",
              "      <td>Картофель \"Ашан\"</td>\n",
              "      <td>46.0</td>\n",
              "      <td>19.0</td>\n",
              "      <td>NaN</td>\n",
              "      <td>NaN</td>\n",
              "      <td>NaN</td>\n",
              "    </tr>\n",
              "    <tr>\n",
              "      <th>3078</th>\n",
              "      <td>Фрукты, овощи, грибы</td>\n",
              "      <td>Картофель</td>\n",
              "      <td>https://roscontrol.com/category/produkti/ovosh...</td>\n",
              "      <td>Картофель \"Магнит\"</td>\n",
              "      <td>78.0</td>\n",
              "      <td>42.0</td>\n",
              "      <td>NaN</td>\n",
              "      <td>NaN</td>\n",
              "      <td>NaN</td>\n",
              "    </tr>\n",
              "    <tr>\n",
              "      <th>3079</th>\n",
              "      <td>Фрукты, овощи, грибы</td>\n",
              "      <td>Картофель</td>\n",
              "      <td>https://roscontrol.com/category/produkti/ovosh...</td>\n",
              "      <td>Картофель \"Дикси\"</td>\n",
              "      <td>56.0</td>\n",
              "      <td>23.0</td>\n",
              "      <td>NaN</td>\n",
              "      <td>NaN</td>\n",
              "      <td>NaN</td>\n",
              "    </tr>\n",
              "    <tr>\n",
              "      <th>3080</th>\n",
              "      <td>Фрукты, овощи, грибы</td>\n",
              "      <td>Картофель</td>\n",
              "      <td>https://roscontrol.com/category/produkti/ovosh...</td>\n",
              "      <td>Картофель \"Овощная лига\" для варки</td>\n",
              "      <td>78.0</td>\n",
              "      <td>27.0</td>\n",
              "      <td>NaN</td>\n",
              "      <td>NaN</td>\n",
              "      <td>NaN</td>\n",
              "    </tr>\n",
              "    <tr>\n",
              "      <th>3081</th>\n",
              "      <td>Фрукты, овощи, грибы</td>\n",
              "      <td>Картофель</td>\n",
              "      <td>https://roscontrol.com/category/produkti/ovosh...</td>\n",
              "      <td>Картофель \"Вкусные овощи\" для варки</td>\n",
              "      <td>76.0</td>\n",
              "      <td>40.0</td>\n",
              "      <td>NaN</td>\n",
              "      <td>NaN</td>\n",
              "      <td>NaN</td>\n",
              "    </tr>\n",
              "    <tr>\n",
              "      <th>3082</th>\n",
              "      <td>Фрукты, овощи, грибы</td>\n",
              "      <td>Картофель</td>\n",
              "      <td>https://roscontrol.com/category/produkti/ovosh...</td>\n",
              "      <td>Картофель \"Агроторг\" мытый</td>\n",
              "      <td>79.0</td>\n",
              "      <td>35.0</td>\n",
              "      <td>NaN</td>\n",
              "      <td>NaN</td>\n",
              "      <td>NaN</td>\n",
              "    </tr>\n",
              "    <tr>\n",
              "      <th>3083</th>\n",
              "      <td>Фрукты, овощи, грибы</td>\n",
              "      <td>Картофель</td>\n",
              "      <td>https://roscontrol.com/category/produkti/ovosh...</td>\n",
              "      <td>Картофель Galey Moshe для варки</td>\n",
              "      <td>79.0</td>\n",
              "      <td>36.0</td>\n",
              "      <td>NaN</td>\n",
              "      <td>NaN</td>\n",
              "      <td>NaN</td>\n",
              "    </tr>\n",
              "    <tr>\n",
              "      <th>3084</th>\n",
              "      <td>Фрукты, овощи, грибы</td>\n",
              "      <td>Картофель</td>\n",
              "      <td>https://roscontrol.com/category/produkti/ovosh...</td>\n",
              "      <td>Картофель \"Карусель\" белый мытый</td>\n",
              "      <td>60.0</td>\n",
              "      <td>41.0</td>\n",
              "      <td>NaN</td>\n",
              "      <td>NaN</td>\n",
              "      <td>NaN</td>\n",
              "    </tr>\n",
              "    <tr>\n",
              "      <th>3085</th>\n",
              "      <td>Фрукты, овощи, грибы</td>\n",
              "      <td>Картофель</td>\n",
              "      <td>https://roscontrol.com/category/produkti/ovosh...</td>\n",
              "      <td>Картофель \"Пятерочка\"</td>\n",
              "      <td>46.0</td>\n",
              "      <td>30.0</td>\n",
              "      <td>NaN</td>\n",
              "      <td>NaN</td>\n",
              "      <td>NaN</td>\n",
              "    </tr>\n",
              "    <tr>\n",
              "      <th>3086</th>\n",
              "      <td>Фрукты, овощи, грибы</td>\n",
              "      <td>Картофель</td>\n",
              "      <td>https://roscontrol.com/category/produkti/ovosh...</td>\n",
              "      <td>Картофель \"Ашан\" белый мытый</td>\n",
              "      <td>57.0</td>\n",
              "      <td>26.0</td>\n",
              "      <td>NaN</td>\n",
              "      <td>NaN</td>\n",
              "      <td>NaN</td>\n",
              "    </tr>\n",
              "    <tr>\n",
              "      <th>3087</th>\n",
              "      <td>Фрукты, овощи, грибы</td>\n",
              "      <td>Картофель</td>\n",
              "      <td>https://roscontrol.com/category/produkti/ovosh...</td>\n",
              "      <td>Картофель \"Билла\"</td>\n",
              "      <td>NaN</td>\n",
              "      <td>NaN</td>\n",
              "      <td>NaN</td>\n",
              "      <td>NaN</td>\n",
              "      <td>NaN</td>\n",
              "    </tr>\n",
              "    <tr>\n",
              "      <th>3088</th>\n",
              "      <td>Фрукты, овощи, грибы</td>\n",
              "      <td>Картофель</td>\n",
              "      <td>https://roscontrol.com/category/produkti/ovosh...</td>\n",
              "      <td>Картофель \"Пятерочка\"</td>\n",
              "      <td>NaN</td>\n",
              "      <td>NaN</td>\n",
              "      <td>NaN</td>\n",
              "      <td>NaN</td>\n",
              "      <td>NaN</td>\n",
              "    </tr>\n",
              "    <tr>\n",
              "      <th>3089</th>\n",
              "      <td>Фрукты, овощи, грибы</td>\n",
              "      <td>Грибы и продукты из них</td>\n",
              "      <td>https://roscontrol.com/category/produkti/ovosh...</td>\n",
              "      <td>Шампиньоны свежие ООО \"Алмаз СТ\"</td>\n",
              "      <td>85.0</td>\n",
              "      <td>40.0</td>\n",
              "      <td>80.0</td>\n",
              "      <td>95.0</td>\n",
              "      <td>75.0</td>\n",
              "    </tr>\n",
              "    <tr>\n",
              "      <th>3090</th>\n",
              "      <td>Фрукты, овощи, грибы</td>\n",
              "      <td>Грибы и продукты из них</td>\n",
              "      <td>https://roscontrol.com/category/produkti/ovosh...</td>\n",
              "      <td>Шампиньоны свежие ООО \"НГК Кашира\"</td>\n",
              "      <td>65.0</td>\n",
              "      <td>40.0</td>\n",
              "      <td>80.0</td>\n",
              "      <td>100.0</td>\n",
              "      <td>71.0</td>\n",
              "    </tr>\n",
              "    <tr>\n",
              "      <th>3091</th>\n",
              "      <td>Фрукты, овощи, грибы</td>\n",
              "      <td>Грибы и продукты из них</td>\n",
              "      <td>https://roscontrol.com/category/produkti/ovosh...</td>\n",
              "      <td>Шампиньоны свежие ООО \"Грибная радуга\"</td>\n",
              "      <td>84.0</td>\n",
              "      <td>40.0</td>\n",
              "      <td>80.0</td>\n",
              "      <td>95.0</td>\n",
              "      <td>75.0</td>\n",
              "    </tr>\n",
              "    <tr>\n",
              "      <th>3092</th>\n",
              "      <td>Фрукты, овощи, грибы</td>\n",
              "      <td>Грибы и продукты из них</td>\n",
              "      <td>https://roscontrol.com/category/produkti/ovosh...</td>\n",
              "      <td>Шампиньоны свежие ООО \"Фруторяд\"</td>\n",
              "      <td>84.0</td>\n",
              "      <td>40.0</td>\n",
              "      <td>85.0</td>\n",
              "      <td>90.0</td>\n",
              "      <td>75.0</td>\n",
              "    </tr>\n",
              "    <tr>\n",
              "      <th>3093</th>\n",
              "      <td>Фрукты, овощи, грибы</td>\n",
              "      <td>Грибы и продукты из них</td>\n",
              "      <td>https://roscontrol.com/category/produkti/ovosh...</td>\n",
              "      <td>Шампиньоны свежие ООО \"Грибной Рай\"</td>\n",
              "      <td>84.0</td>\n",
              "      <td>40.0</td>\n",
              "      <td>80.0</td>\n",
              "      <td>95.0</td>\n",
              "      <td>75.0</td>\n",
              "    </tr>\n",
              "    <tr>\n",
              "      <th>3094</th>\n",
              "      <td>Фрукты, овощи, грибы</td>\n",
              "      <td>Грибы и продукты из них</td>\n",
              "      <td>https://roscontrol.com/category/produkti/ovosh...</td>\n",
              "      <td>Шампиньоны свежие СООО \"Бонше\"</td>\n",
              "      <td>84.0</td>\n",
              "      <td>40.0</td>\n",
              "      <td>80.0</td>\n",
              "      <td>95.0</td>\n",
              "      <td>75.0</td>\n",
              "    </tr>\n",
              "  </tbody>\n",
              "</table>\n",
              "</div>"
            ],
            "text/plain": [
              "                       class                       type  ... quality total score\n",
              "3075   Фрукты, овощи, грибы                  Картофель   ...     NaN        75.0\n",
              "3076   Фрукты, овощи, грибы                  Картофель   ...     NaN        68.0\n",
              "3077   Фрукты, овощи, грибы                  Картофель   ...     NaN         NaN\n",
              "3078   Фрукты, овощи, грибы                  Картофель   ...     NaN         NaN\n",
              "3079   Фрукты, овощи, грибы                  Картофель   ...     NaN         NaN\n",
              "3080   Фрукты, овощи, грибы                  Картофель   ...     NaN         NaN\n",
              "3081   Фрукты, овощи, грибы                  Картофель   ...     NaN         NaN\n",
              "3082   Фрукты, овощи, грибы                  Картофель   ...     NaN         NaN\n",
              "3083   Фрукты, овощи, грибы                  Картофель   ...     NaN         NaN\n",
              "3084   Фрукты, овощи, грибы                  Картофель   ...     NaN         NaN\n",
              "3085   Фрукты, овощи, грибы                  Картофель   ...     NaN         NaN\n",
              "3086   Фрукты, овощи, грибы                  Картофель   ...     NaN         NaN\n",
              "3087   Фрукты, овощи, грибы                  Картофель   ...     NaN         NaN\n",
              "3088   Фрукты, овощи, грибы                  Картофель   ...     NaN         NaN\n",
              "3089   Фрукты, овощи, грибы    Грибы и продукты из них   ...    95.0        75.0\n",
              "3090   Фрукты, овощи, грибы    Грибы и продукты из них   ...   100.0        71.0\n",
              "3091   Фрукты, овощи, грибы    Грибы и продукты из них   ...    95.0        75.0\n",
              "3092   Фрукты, овощи, грибы    Грибы и продукты из них   ...    90.0        75.0\n",
              "3093   Фрукты, овощи, грибы    Грибы и продукты из них   ...    95.0        75.0\n",
              "3094   Фрукты, овощи, грибы    Грибы и продукты из них   ...    95.0        75.0\n",
              "\n",
              "[20 rows x 9 columns]"
            ]
          },
          "metadata": {},
          "execution_count": 62
        }
      ]
    },
    {
      "cell_type": "markdown",
      "metadata": {
        "id": "YSKMcF-ce_1D"
      },
      "source": [
        "## save"
      ]
    },
    {
      "cell_type": "code",
      "metadata": {
        "id": "qAE_AGCZfBX7"
      },
      "source": [
        "df.to_csv(u'roscontrol.csv', sep = ';', encoding='utf-16')"
      ],
      "execution_count": 63,
      "outputs": []
    },
    {
      "cell_type": "code",
      "metadata": {
        "id": "GNbro-hOxhYb"
      },
      "source": [
        ""
      ],
      "execution_count": null,
      "outputs": []
    }
  ]
}