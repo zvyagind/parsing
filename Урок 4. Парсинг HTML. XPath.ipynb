{
 "cells": [
  {
   "cell_type": "markdown",
   "source": [
    "#Урок 4. Парсинг HTML. XPath\n",
    "Написать приложение, которое собирает основные новости с сайта на выбор news.mail.ru, lenta.ru, yandex-новости. Для парсинга использовать XPath.\n",
    "Структура данных должна содержать:\n",
    " - название источника;\n",
    " - наименование новости;\n",
    " - ссылку на новость;\n",
    " - дата публикации.\n",
    "Сложить собранные данные в БД\n",
    "Минимум один сайт, максимум - все три"
   ],
   "metadata": {
    "collapsed": false
   }
  },
  {
   "cell_type": "code",
   "execution_count": 35,
   "metadata": {
    "collapsed": true
   },
   "outputs": [
    {
     "name": "stdout",
     "output_type": "stream",
     "text": [
      "Сегодня:  2021-08-30\n"
     ]
    }
   ],
   "source": [
    "from lxml import html\n",
    "import pandas as pd\n",
    "import requests\n",
    "from pprint import pprint\n",
    "from pymongo import MongoClient\n",
    "from datetime import date, datetime\n",
    "curr_date= datetime.today().strftime(\"%Y-%m-%d\")\n",
    "print('Сегодня: ', curr_date)"
   ]
  },
  {
   "cell_type": "code",
   "execution_count": 40,
   "outputs": [
    {
     "name": "stdout",
     "output_type": "stream",
     "text": [
      "65\n"
     ]
    }
   ],
   "source": [
    "header = {\n",
    "    \"Accept\": \"text/html,application/xhtml+xml,application/xml;q=0.9,image/avif,image/webp,image/apng,*/*;q=0.8,application/signed-exchange;v=b3;q=0.9\",\n",
    "    \"Accept-Language\": \"ru-RU,ru;q=0.9,en-US;q=0.8,en;q=0.7\",\n",
    "    \"User-Agent\": \"Mozilla/5.0 (Windows NT 10.0; Win64; x64) AppleWebKit/537.36 (KHTML, like Gecko) Chrome/93.0.4577.18 Safari/537.36 OPR/79.0.4143.3 (Edition beta)\"\n",
    "}\n",
    "\n",
    "response = requests.get('https://yandex.ru/news', headers=header)\n",
    "\n",
    "dom = html.fromstring(response.text)\n",
    "\n",
    "items = dom.xpath('//*/article') #('//*[@class=\"mg-card__text\"] | //*[@class=\"mg-card__inner\"]')\n",
    "print(len(items))\n",
    "items_list = []\n",
    "\n",
    "for item in items:\n",
    "    items_data = {}\n",
    "    name = item.xpath('.//h2[@class=\"mg-card__title\"]//text()')[0].replace('\\xa0— 2','').replace('\\xa0',' ')\n",
    "    source = item.xpath('.//a[contains(@class,\"mg-card__source-link\")]/text()')\n",
    "    link = item.xpath('.//a[@class=\"mg-card__link\"]/@href')\n",
    "    time = item.xpath(\".//span[@class='mg-card-source__time']//text()\")\n",
    "\n",
    "    items_data['name'] = name\n",
    "    items_data['source'] = source[0]\n",
    "    items_data['link'] = link[0]\n",
    "\n",
    "    if time[0].split()[0] == 'Вчера':\n",
    "        time = datetime.strptime((curr_date+' '+time[0].split()[-1]), \"%Y-%m-%d %H:%M\")-timedelta(days=1)\n",
    "    else:\n",
    "\t    time = datetime.strptime((curr_date+' '+time[0].split()[-1]), \"%Y-%m-%d %H:%M\")\n",
    "\n",
    "    # time = datetime.strptime(time[0].split()[-1], '%H:%M')\n",
    "    items_data['date'] = time\n",
    "\n",
    "    items_list.append(items_data)\n"
   ],
   "metadata": {
    "collapsed": false,
    "pycharm": {
     "name": "#%%\n"
    }
   }
  },
  {
   "cell_type": "code",
   "execution_count": 41,
   "outputs": [
    {
     "data": {
      "text/plain": "                                                name        source  \\\n0  Единовременную выплату в 10 тыс. рублей перечи...          ТАСС   \n1  Цена газа в Европе достигла рекордных $600 за ...   Коммерсантъ   \n2  МВД признало пребывание в России комика Идрака...   РИА Новости   \n3  ТАСС: пресс-секретарь Алексея Навального Кира ...      Lenta.ru   \n4  Глава МИД РФ Сергей Лавров: нападки на Сталина...      Lenta.ru   \n5   Герой России Роман Шадрин умер в возрасте 54 лет   РИА Новости   \n6  E1.RU опубликовало репортаж из реанимации глав...  Solenka.info   \n7  Покрас Лампас создал арт-объект в Екатеринбург...          ТАСС   \n8  РМК построит в Екатеринбурге музей оружия по п...         e1.ru   \n9  СК: змея укусила ребенка в контактном зоопарке...   РИА Новости   \n\n                                                link                date  \n0  https://yandex.ru/news/story/Edinovremennuyu_v... 2021-08-30 21:45:00  \n1  https://yandex.ru/news/story/Cena_gaza_vEvrope... 2021-08-30 21:50:00  \n2  https://yandex.ru/news/story/MVD_priznalo_preb... 2021-08-30 21:27:00  \n3  https://yandex.ru/news/story/TASS_press-sekret... 2021-08-30 21:43:00  \n4  https://yandex.ru/news/story/Glava_MID_RF_Serg... 2021-08-30 21:01:00  \n5  https://yandex.ru/news/story/Geroj_Rossii_Roma... 2021-08-30 19:30:00  \n6  https://yandex.ru/news/story/E1.RU_opublikoval... 2021-08-30 17:30:00  \n7  https://yandex.ru/news/story/Pokras_Lampas_soz... 2021-08-30 21:25:00  \n8  https://yandex.ru/news/story/RMK_postroit_vEka... 2021-08-30 20:38:00  \n9  https://yandex.ru/news/story/SK_zmeya_ukusila_... 2021-08-30 21:38:00  ",
      "text/html": "<div>\n<style scoped>\n    .dataframe tbody tr th:only-of-type {\n        vertical-align: middle;\n    }\n\n    .dataframe tbody tr th {\n        vertical-align: top;\n    }\n\n    .dataframe thead th {\n        text-align: right;\n    }\n</style>\n<table border=\"1\" class=\"dataframe\">\n  <thead>\n    <tr style=\"text-align: right;\">\n      <th></th>\n      <th>name</th>\n      <th>source</th>\n      <th>link</th>\n      <th>date</th>\n    </tr>\n  </thead>\n  <tbody>\n    <tr>\n      <th>0</th>\n      <td>Единовременную выплату в 10 тыс. рублей перечи...</td>\n      <td>ТАСС</td>\n      <td>https://yandex.ru/news/story/Edinovremennuyu_v...</td>\n      <td>2021-08-30 21:45:00</td>\n    </tr>\n    <tr>\n      <th>1</th>\n      <td>Цена газа в Европе достигла рекордных $600 за ...</td>\n      <td>Коммерсантъ</td>\n      <td>https://yandex.ru/news/story/Cena_gaza_vEvrope...</td>\n      <td>2021-08-30 21:50:00</td>\n    </tr>\n    <tr>\n      <th>2</th>\n      <td>МВД признало пребывание в России комика Идрака...</td>\n      <td>РИА Новости</td>\n      <td>https://yandex.ru/news/story/MVD_priznalo_preb...</td>\n      <td>2021-08-30 21:27:00</td>\n    </tr>\n    <tr>\n      <th>3</th>\n      <td>ТАСС: пресс-секретарь Алексея Навального Кира ...</td>\n      <td>Lenta.ru</td>\n      <td>https://yandex.ru/news/story/TASS_press-sekret...</td>\n      <td>2021-08-30 21:43:00</td>\n    </tr>\n    <tr>\n      <th>4</th>\n      <td>Глава МИД РФ Сергей Лавров: нападки на Сталина...</td>\n      <td>Lenta.ru</td>\n      <td>https://yandex.ru/news/story/Glava_MID_RF_Serg...</td>\n      <td>2021-08-30 21:01:00</td>\n    </tr>\n    <tr>\n      <th>5</th>\n      <td>Герой России Роман Шадрин умер в возрасте 54 лет</td>\n      <td>РИА Новости</td>\n      <td>https://yandex.ru/news/story/Geroj_Rossii_Roma...</td>\n      <td>2021-08-30 19:30:00</td>\n    </tr>\n    <tr>\n      <th>6</th>\n      <td>E1.RU опубликовало репортаж из реанимации глав...</td>\n      <td>Solenka.info</td>\n      <td>https://yandex.ru/news/story/E1.RU_opublikoval...</td>\n      <td>2021-08-30 17:30:00</td>\n    </tr>\n    <tr>\n      <th>7</th>\n      <td>Покрас Лампас создал арт-объект в Екатеринбург...</td>\n      <td>ТАСС</td>\n      <td>https://yandex.ru/news/story/Pokras_Lampas_soz...</td>\n      <td>2021-08-30 21:25:00</td>\n    </tr>\n    <tr>\n      <th>8</th>\n      <td>РМК построит в Екатеринбурге музей оружия по п...</td>\n      <td>e1.ru</td>\n      <td>https://yandex.ru/news/story/RMK_postroit_vEka...</td>\n      <td>2021-08-30 20:38:00</td>\n    </tr>\n    <tr>\n      <th>9</th>\n      <td>СК: змея укусила ребенка в контактном зоопарке...</td>\n      <td>РИА Новости</td>\n      <td>https://yandex.ru/news/story/SK_zmeya_ukusila_...</td>\n      <td>2021-08-30 21:38:00</td>\n    </tr>\n  </tbody>\n</table>\n</div>"
     },
     "execution_count": 41,
     "metadata": {},
     "output_type": "execute_result"
    }
   ],
   "source": [
    "df = pd.DataFrame(items_list)\n",
    "df.head(10)"
   ],
   "metadata": {
    "collapsed": false,
    "pycharm": {
     "name": "#%%\n"
    }
   }
  },
  {
   "cell_type": "code",
   "execution_count": 42,
   "outputs": [],
   "source": [
    "client = MongoClient('mongodb://localhost:27017/')\n",
    "news = client.news\n",
    "db = news.news\n",
    "\n",
    "for i in range(0, len(df)):\n",
    "\t# db.insert_one(data.loc[i].to_dict())\n",
    "\tdb.update_one({'link': df.loc[i].to_dict()['link']}, {\n",
    "\t\t'$set': df.loc[i].to_dict()}, upsert=True)"
   ],
   "metadata": {
    "collapsed": false,
    "pycharm": {
     "name": "#%%\n"
    }
   }
  }
 ],
 "metadata": {
  "kernelspec": {
   "display_name": "Python 3",
   "language": "python",
   "name": "python3"
  },
  "language_info": {
   "codemirror_mode": {
    "name": "ipython",
    "version": 2
   },
   "file_extension": ".py",
   "mimetype": "text/x-python",
   "name": "python",
   "nbconvert_exporter": "python",
   "pygments_lexer": "ipython2",
   "version": "2.7.6"
  }
 },
 "nbformat": 4,
 "nbformat_minor": 0
}